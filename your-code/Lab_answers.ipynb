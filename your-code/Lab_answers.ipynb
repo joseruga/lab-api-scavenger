{
 "cells": [
  {
   "cell_type": "markdown",
   "metadata": {},
   "source": [
    "# Lab API Scavenger"
   ]
  },
  {
   "cell_type": "code",
   "execution_count": 2,
   "metadata": {},
   "outputs": [],
   "source": [
    "import requests\n",
    "from github import Github\n",
    "import json\n",
    "import pandas as pd\n",
    "import re\n",
    "import base64"
   ]
  },
  {
   "cell_type": "markdown",
   "metadata": {},
   "source": [
    "## Challenge 1: Fork Languages\n",
    "You will find out how many programming languages are used among all the forks created from the main lab repo of your bootcamp. Assuming the main lab repo is ironhack-datalabs/madrid-oct-2018, you will:\n",
    "\n",
    "Obtain the full list of forks created from the main lab repo via Github API.\n",
    "\n",
    "Loop the JSON response to find out the language attribute of each fork. Use an array to store the language attributes of each fork.\n",
    "\n",
    "Hint: Each language should appear only once in your array.\n",
    "Print the language array. It should be something like:\n",
    "\n",
    "[\"Python\", \"Jupyter Notebook\", \"HTML\"]"
   ]
  },
  {
   "cell_type": "code",
   "execution_count": 2,
   "metadata": {},
   "outputs": [],
   "source": [
    "response = requests.get('https://api.github.com/repos/ironhack-datalabs/madrid-oct-2018/forks')"
   ]
  },
  {
   "cell_type": "code",
   "execution_count": 5,
   "metadata": {},
   "outputs": [],
   "source": [
    "#response.json()"
   ]
  },
  {
   "cell_type": "code",
   "execution_count": 3,
   "metadata": {},
   "outputs": [],
   "source": [
    "languages = []\n",
    "for repo in response.json() :\n",
    "    if repo['language'] not in languages:\n",
    "        languages.append(repo['language'])"
   ]
  },
  {
   "cell_type": "code",
   "execution_count": 4,
   "metadata": {},
   "outputs": [
    {
     "data": {
      "text/plain": [
       "[None, 'Jupyter Notebook', 'HTML']"
      ]
     },
     "execution_count": 4,
     "metadata": {},
     "output_type": "execute_result"
    }
   ],
   "source": [
    "languages"
   ]
  },
  {
   "cell_type": "markdown",
   "metadata": {},
   "source": [
    "## Challenge 2: Count Commits\n",
    "Count how many commits were made in the past week.\n",
    "\n",
    "Obtain all the commits made in the past week via API, which is a JSON array that contains multiple commit objects.\n",
    "\n",
    "Count how many commit objects are contained in the array."
   ]
  },
  {
   "cell_type": "code",
   "execution_count": 27,
   "metadata": {},
   "outputs": [
    {
     "data": {
      "text/plain": [
       "[]"
      ]
     },
     "execution_count": 27,
     "metadata": {},
     "output_type": "execute_result"
    }
   ],
   "source": [
    "response = requests.get('https://api.github.com/repos/ironhack-datalabs/madrid-oct-2018/commits?since=2020-11-07T00:00:00Z')\n",
    "response.json()\n",
    "#No hay ningun commit en la ultima semana"
   ]
  },
  {
   "cell_type": "code",
   "execution_count": 55,
   "metadata": {},
   "outputs": [
    {
     "data": {
      "text/plain": [
       "{'name': 'ta-data-bcn',\n",
       " 'email': '47005065+ta-data-bcn@users.noreply.github.com',\n",
       " 'date': '2019-03-07T15:49:16Z'}"
      ]
     },
     "execution_count": 55,
     "metadata": {},
     "output_type": "execute_result"
    }
   ],
   "source": [
    "#Intentamos otra fecha a ver si sirve\n",
    "response = requests.get('https://api.github.com/repos/ironhack-datalabs/madrid-oct-2018/commits?since=2018-11-07T00:00:00Z')\n",
    "response.json()[1]['commit']['author']"
   ]
  },
  {
   "cell_type": "markdown",
   "metadata": {},
   "source": [
    "## Challenge 3: Hidden Cold Joke\n",
    "Using Python, call Github API to find out the cold joke contained in the 24 secret files in the following repo:\n",
    "\n",
    "https://github.com/ironhack-datalabs/scavenger\n",
    "\n",
    "The filenames of the secret files contain .scavengerhunt and they are scattered in different directories of this repo. The secret files are named from .0001.scavengerhunt to .0024.scavengerhunt. They are scattered randomly throughout this repo. You need to search for these files by calling the Github API, not searching the local files on your computer."
   ]
  },
  {
   "cell_type": "code",
   "execution_count": 3,
   "metadata": {},
   "outputs": [],
   "source": [
    "#Pa'q no descubran mis secretos\n",
    "token = open('../../GitAPIToken.txt','r').readline()\n",
    "g =Github(token)"
   ]
  },
  {
   "cell_type": "code",
   "execution_count": 66,
   "metadata": {},
   "outputs": [],
   "source": [
    "#Metodo clase con wraper\n",
    "repo=g.get_repo('ironhack-datalabs/scavenger')\n",
    "paths = []\n",
    "joke = ''\n",
    "contents = repo.get_contents('')\n",
    "for folder in contents[1:]:\n",
    "    carpeta = repo.get_contents(folder.path)\n",
    "    for file in carpeta:\n",
    "        if file.path.endswith ('scavengerhunt'):\n",
    "            paths.append(file.path)\n",
    "            paths.sort(key=lambda x: re.findall(r'\\..*',x))\n",
    "for ruta in paths:\n",
    "    word=re.sub(r'b','',str((repo.get_contents(ruta).decoded_content)))\n",
    "    word=re.sub(r'\\'','',word)\n",
    "    joke += re.sub(r'\\\\n','',word)+' '\n"
   ]
  },
  {
   "cell_type": "code",
   "execution_count": 6,
   "metadata": {},
   "outputs": [
    {
     "name": "stdout",
     "output_type": "stream",
     "text": [
      "In data science, 80 percent of time spent is preparing data, 20 percent of time is spent complaining aout the need to prepare data. \n"
     ]
    }
   ],
   "source": [
    "print(joke)"
   ]
  },
  {
   "cell_type": "code",
   "execution_count": 44,
   "metadata": {},
   "outputs": [],
   "source": [
    "#Defino una funcion para decodificar el contenido de \n",
    "def decodificar (x):\n",
    "    x.encode('ascii')\n",
    "    x = base64.b64decode(x)\n",
    "    x = x.decode('ascii')\n",
    "    return(x)"
   ]
  },
  {
   "cell_type": "code",
   "execution_count": 63,
   "metadata": {},
   "outputs": [
    {
     "name": "stdout",
     "output_type": "stream",
     "text": [
      "In data science, 80 percent of time spent is preparing data, 20 percent of time is spent complaining about the need to prepare data. \n"
     ]
    }
   ],
   "source": [
    "paths = []\n",
    "paths1 = []\n",
    "response = requests.get('https://api.github.com/repos/ironhack-datalabs/scavenger/contents')\n",
    "for element in response.json():\n",
    "    element['name']\n",
    "    if 'gitignore' not in element['name']:\n",
    "        paths1.append(element['name'])\n",
    "    \n",
    "for folder in paths1:\n",
    "    response2 = requests.get(f'https://api.github.com/repos/ironhack-datalabs/scavenger/contents/{folder}')\n",
    "    for element2 in response2.json():\n",
    "        paths.append(folder+'/'+element2['name'])\n",
    "        \n",
    "clean_paths = [path for path in paths if 'scavengerhunt' in path]\n",
    "clean_paths.sort(key=lambda x: re.findall(r'\\..*',x))\n",
    "contents=[]\n",
    "for path in clean_paths:\n",
    "    response3 = requests.get(f'https://api.github.com/repos/ironhack-datalabs/scavenger/contents/{path}')\n",
    "    contents.append(response3.json())\n",
    "contents = [file['content'] for file in contents]\n",
    "contents_txt = [decodificar(x).replace('\\n',' ') for x in contents]\n",
    "print(''.join(contents_txt))"
   ]
  }
 ],
 "metadata": {
  "kernelspec": {
   "display_name": "Python 3",
   "language": "python",
   "name": "python3"
  },
  "language_info": {
   "codemirror_mode": {
    "name": "ipython",
    "version": 3
   },
   "file_extension": ".py",
   "mimetype": "text/x-python",
   "name": "python",
   "nbconvert_exporter": "python",
   "pygments_lexer": "ipython3",
   "version": "3.8.3"
  }
 },
 "nbformat": 4,
 "nbformat_minor": 4
}
